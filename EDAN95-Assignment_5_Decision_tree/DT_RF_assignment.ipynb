{
 "cells": [
  {
   "cell_type": "markdown",
   "metadata": {},
   "source": [
    "# Assignment 5\n",
    "## Decision Trees and Random Forests for Regression\n",
    "\n",
    "### About this notebook\n",
    "\n",
    "The notebook has two parts, as has the assignment, the first part being a \"tutorial like\" walkthrough, the second asking you to implement a regression tree yourself. Hence, when going through the first part, remember that you need to have time left to actually work with the second!\n",
    "\n",
    "Both parts of the assignment can be handled within this notebook, however, the ID3-implementation should be done in a separate Python-script (ID3_reg.py). Feel free to move the second part to its own notebook for better overview. In any case, if you make changes in the Python file, you might need to restart the kernel for the notebook that is using it, so that changes get properly loaded.\n"
   ]
  },
  {
   "cell_type": "code",
   "execution_count": null,
   "metadata": {},
   "outputs": [],
   "source": [
    "# YOU DON'T HAVE TO RUN THIS IF EVERYTHING IS ALREADY INSTALLED CORRECTLY\n",
    "!pip3 install --upgrade pip\n",
    "!pip3 install graphviz\n",
    "!pip3 install dtreeviz\n",
    "!pip3 install numpy scipy"
   ]
  },
  {
   "cell_type": "code",
   "execution_count": 1,
   "metadata": {},
   "outputs": [],
   "source": [
    "import numpy as np\n",
    "from collections import Counter\n",
    "from ordered_set import OrderedSet\n",
    "from graphviz import Digraph\n",
    "from sklearn import tree, metrics, datasets\n",
    "from ordered_set import OrderedSet\n",
    "\n",
    "\n",
    "class ID3RegressionTreePredictor :\n",
    "\n",
    "\n",
    "    def __init__(self, minSamplesLeaf = 1, minSamplesSplit = 2, maxDepth = 100, stopMSE = 0.0) :\n",
    "\n",
    "        self.__nodeCounter = -1\n",
    "        \n",
    "        self.__dot = Digraph()\n",
    "\n",
    "        self.__minSamplesLeaf = minSamplesLeaf\n",
    "        self.__minSamplesSplit = minSamplesSplit\n",
    "        self.__maxDepth = maxDepth\n",
    "        self.__stopMSE = stopMSE\n",
    "\n",
    "        self.__numOfAttributes = 0\n",
    "        self.__attributes = None\n",
    "        self.__target = None\n",
    "        self.__data = None\n",
    "\n",
    "        self.__tree = None\n",
    "\n",
    "    def newID3Node(self):\n",
    "        self.__nodeCounter += 1\n",
    "        return {'id': self.__nodeCounter, 'splitValue': None, 'nextSplitAttribute': None, 'mse': None, 'samples': None,\n",
    "                         'avgValue': None, 'nodes': None}\n",
    "\n",
    "\n",
    "    def addNodeToGraph(self, node, parentid):\n",
    "        nodeString = ''\n",
    "        for k in node:\n",
    "            if ((node[k] != None) and (k != 'nodes')):\n",
    "                nodeString += \"\\n\" + str(k) + \": \" + str(node[k])\n",
    "\n",
    "        self.__dot.node(str(node['id']), label=nodeString)\n",
    "        if (parentid != None):\n",
    "            self.__dot.edge(str(parentid), str(node['id']))\n",
    "            nodeString += \"\\n\" + str(parentid) + \" -> \" + str(node['id'])\n",
    "\n",
    "\n",
    "        return\n",
    "\n",
    "    \n",
    "    def makeDotData(self) :\n",
    "        return self.__dot\n",
    "\n",
    "\n",
    "    # stubb that can be extended to a full blown MSE calculation.\n",
    "    def calcMSE(self, dataIDXs) :\n",
    "        if len(dataIDXs)==0:\n",
    "            return 0, 0\n",
    "\n",
    "        \n",
    "\n",
    "        _targets = self.__target[list(dataIDXs)]\n",
    "        avg = np.mean(_targets)\n",
    "        # mse=0\n",
    "        # for i in dataIDXs:\n",
    "        #     mse += (self.__target[i] - avg)**2\n",
    "\n",
    "        #print(\"körs\")\n",
    "        \n",
    "        mse = sum( (_targets-avg)**2  )\n",
    "        \n",
    "        # print(\"MSE: \", mse, \"AVG\", avg , \"Targets shape : \" , _targets.shape)\n",
    "        return mse, avg\n",
    "\n",
    "    \n",
    "    # find the best split attribute out of the still possible ones ('attributes')\n",
    "    # over a subset of self.__data specified through a list of indices (dataIDXs)\n",
    "    def findSplitAttr(self, attributes, dataIDXs) :\n",
    "\n",
    "        minMSE = float(\"inf\")\n",
    "        \n",
    "        splitAttr = ''\n",
    "        splitMSEs = {}\n",
    "        splitDataIDXs = {}\n",
    "        splitAverages = {}\n",
    "        \n",
    "        t_splitMSEs = {}\n",
    "        t_splitDataIDXs = {}\n",
    "        t_splitAverages = {}\n",
    "        \n",
    "        #MSE = self.calcMSE(dataIDXs)\n",
    "        attr_list = list(self.__attributes.keys())\n",
    "        \n",
    "       # print(\"dataIDXs : \" , dataIDXs)\n",
    "        \n",
    "        \n",
    "        #print(\"Attributes type: \",type(attributes), \"Attributes :\", attributes)\n",
    "        for attr in attributes:\n",
    "            oMSE = 0\n",
    "            i = attr_list.index(attr)\n",
    "            \n",
    "            for val in self.__attributes[attr]:\n",
    "\n",
    "                \n",
    "                #idxs = np.where(self.__data[list(dataIDXs),i] == val)[0]\n",
    "                idxs = [idx for idx in dataIDXs if self.__data[idx][i] == val]\n",
    "\n",
    "                # print(\"indices : \" , idxs)\n",
    "                \n",
    "                my_mse, my_avg = self.calcMSE(idxs)\n",
    "                oMSE += my_mse\n",
    "                t_splitMSEs[val] = my_mse\n",
    "                t_splitDataIDXs[val] = idxs\n",
    "                t_splitAverages[val] = my_avg\n",
    "            if oMSE < minMSE:\n",
    "                splitMSEs = t_splitMSEs\n",
    "                splitDataIDXs = t_splitDataIDXs\n",
    "                splitAverages = t_splitAverages\n",
    "                \n",
    "                minMSE = oMSE\n",
    "                splitAttr = attr\n",
    "            \n",
    "            t_splitMSEs = {}\n",
    "            t_splitDataIDXs = {}\n",
    "            t_splitAverages = {}\n",
    "            \n",
    "            \n",
    "            \n",
    "            \n",
    "        \n",
    "\n",
    "        # ****************************************************************************************\n",
    "        # Provide your code here (and in potentially needed help methods, like self.calcMSE\n",
    "        #\n",
    "        # You find the data in self.__data and target values in self.__target\n",
    "        # The data set for which you should find the best split attribute by \n",
    "        # calculating the overall MSE for the respective subsets is specified \n",
    "        # through the parameter 'dataIDXs', i.e. self.__data and self.__target\n",
    "        # will never need to be altered themselves, and no copies are needed \n",
    "        # either!\n",
    "        #\n",
    "        # Return:\n",
    "        # - minMSE: the minimal MSE resulting from your calculations\n",
    "        # - splitAttr: the attribute that, if used as split attribute, gives the minMSE\n",
    "        # - splitMSEs: a dictionary (keys: attribute values, values: MSEs) with the MSEs \n",
    "        #              in each subset resulting from the split\n",
    "        # - splitAveragesFinal: a dictionary (keys: attribute values, values: average values) \n",
    "        #                       with the average value (prediction) of each subset\n",
    "        # - splitDataIDXsFinal: a dictionary (keys: attribute values, values: subset data indices)\n",
    "        #                       with the list of indices for each subset\n",
    "        #*****************************************************************************************\n",
    "        \n",
    "        \n",
    "        \n",
    "        \n",
    "        return minMSE, splitAttr, splitMSEs, splitAverages, splitDataIDXs\n",
    "\n",
    "\n",
    "    # the starting point for fitting the tree\n",
    "    # you should not need to change anything in here\n",
    "    def fit(self, data, target, attributes):\n",
    "\n",
    "        self.__numOfAttributes = len(attributes)\n",
    "        self.__attributes = attributes\n",
    "        self.__data = data\n",
    "        self.__target = target\n",
    "\n",
    "        \n",
    "        dataIDXs = {j for j in range(len(data))}\n",
    "\n",
    "        mse, avg = self.calcMSE(dataIDXs)\n",
    "        \n",
    "        attributesToTest = list(self.__attributes.keys())\n",
    "        \n",
    "        self.__tree = self.fit_rek( 0, None, '-', attributesToTest, mse, avg, dataIDXs)\n",
    "\n",
    "        return self.__tree\n",
    "\n",
    "\n",
    "    # the recursive tree fitting method\n",
    "    # you should not need to change anything in here\n",
    "    def fit_rek(self, depth, parentID, splitVal, attributesToTest, mse, avg, dataIDXs) :\n",
    "\n",
    "        root = self.newID3Node()\n",
    "        \n",
    "        root.update({'splitValue':splitVal, 'mse': mse, 'samples': len(dataIDXs)})\n",
    "        currentDepth = depth\n",
    "               \n",
    "        if (currentDepth == self.__maxDepth or mse <= self.__stopMSE or len(attributesToTest) == 0 or len(dataIDXs) < self.__minSamplesSplit):\n",
    "            root.update({'avgValue':avg})\n",
    "            self.addNodeToGraph(root, parentID)\n",
    "            return root\n",
    "\n",
    "        minMSE, splitAttr, splitMSEs, splitAverages, splitDataIDXs = self.findSplitAttr(attributesToTest, dataIDXs)\n",
    "\n",
    "\n",
    "        root.update({'nextSplitAttribute': splitAttr, 'nodes': {}})\n",
    "        self.addNodeToGraph(root, parentID)\n",
    "\n",
    "        attributesToTestCopy = OrderedSet(attributesToTest)\n",
    "        attributesToTestCopy.discard(splitAttr)\n",
    "\n",
    "        #print(splitAttr, splitDataIDXs)\n",
    "\n",
    "        for val in self.__attributes[splitAttr] :\n",
    "            #print(\"testing \" + str(splitAttr) + \" = \" + str(val))\n",
    "            if( len(splitDataIDXs[val]) < self.__minSamplesLeaf) :\n",
    "                root['nodes'][val] = self.newID3Node()\n",
    "                root['nodes'][val].update({'splitValue':val, 'samples': len(splitDataIDXs[val]), 'avgValue': splitAverages[val]})\n",
    "                self.addNodeToGraph(root['nodes'][val], root['id'])\n",
    "                #print(\"leaf, not enough samples, setting node-value = \" + str(splitAverages[val]))\n",
    "                \n",
    "            else :\n",
    "                root['nodes'][val] = self.fit_rek( currentDepth+1, root['id'], val, attributesToTestCopy, splitMSEs[val], splitAverages[val], splitDataIDXs[val])\n",
    "\n",
    "        return root\n",
    "\n",
    "    # Doing a prediction for a data set 'data' (starting method for the recursive tree traversal)\n",
    "    def predict(self, data) :\n",
    "        predicted = list()\n",
    "\n",
    "        for i in range(len(data)) :\n",
    "            predicted.append(self.predict_rek(data[i], self.__tree))\n",
    "\n",
    "        return predicted\n",
    "\n",
    "    # Recursively traverse the tree to find the value for the sample 'sample'\n",
    "    def predict_rek(self, sample, node) :\n",
    "\n",
    "        if(node['avgValue'] != None) :\n",
    "            return node['avgValue']\n",
    "\n",
    "        attr = node['nextSplitAttribute']\n",
    "        dataIDX = list(self.__attributes.keys()).index(attr)\n",
    "        val = sample[dataIDX]\n",
    "        next = node['nodes'][val]\n",
    "\n",
    "        return self.predict_rek( sample, next)\n",
    "    \n",
    "    def score(self, data, target) :\n",
    "        score = 1.0\n",
    "        y_true = target\n",
    "        y_pred = self.predict(data)\n",
    "        u = sum((y_true - y_pred)** 2)\n",
    "        v = sum((y_true - np.mean(y_true)) ** 2)\n",
    "        score = 1 - u/v\n",
    "        \n",
    "        \n",
    "        # ************************************************\n",
    "        # Implement your score method here\n",
    "        # ************************************************\n",
    "        \n",
    "        return score\n",
    "\n"
   ]
  },
  {
   "cell_type": "markdown",
   "metadata": {},
   "source": [
    "# Part 1\n",
    "\n",
    "## Dataset"
   ]
  },
  {
   "cell_type": "markdown",
   "metadata": {},
   "source": [
    "First we load the dataset. Ultimately, you should be working with the California housing data, but for quicker test runs, it might help to first start out with the Diabetes data."
   ]
  },
  {
   "cell_type": "code",
   "execution_count": 2,
   "metadata": {},
   "outputs": [],
   "source": [
    "#run time 0.8s\n",
    "\n",
    "from sklearn.datasets import load_diabetes\n",
    "from sklearn.datasets import fetch_california_housing\n",
    "from ConceptDataRegr import ConceptDataRegr\n",
    "from sklearn.model_selection import train_test_split \n",
    "from sklearn.tree import DecisionTreeRegressor\n",
    "\n",
    "import ssl\n",
    "ssl._create_default_https_context = ssl._create_unverified_context\n",
    "\n",
    "#test_case = 'diabetes'\n",
    "test_case = 'california'\n",
    "\n",
    "if test_case == 'california':\n",
    "    dataset = fetch_california_housing()\n",
    "elif test_case == 'diabetes':\n",
    "    dataset = load_diabetes()\n",
    "else:\n",
    "    raise ValueError('Unknown test case')\n",
    "\n",
    "X = dataset.data\n",
    "y = dataset.target\n",
    "\n",
    "#run time 0.7s\n",
    "\n",
    "train_ratio = 0.70\n",
    "validation_ratio = 0.15\n",
    "test_ratio = 0.15\n",
    "X = dataset.data\n",
    "X_train, X_test, y_train, y_test = train_test_split(X, y, test_size=1 - train_ratio, random_state=0)\n",
    "X_val, X_test, y_val, y_test = train_test_split(X_test, y_test, test_size=test_ratio/(test_ratio + validation_ratio), random_state=0)\n"
   ]
  },
  {
   "cell_type": "code",
   "execution_count": 8,
   "metadata": {},
   "outputs": [
    {
     "data": {
      "text/plain": [
       "(20640, 8)"
      ]
     },
     "execution_count": 8,
     "metadata": {},
     "output_type": "execute_result"
    }
   ],
   "source": [
    "X.shape\n"
   ]
  },
  {
   "cell_type": "markdown",
   "metadata": {},
   "source": [
    "Some information about the dataset you're looking at"
   ]
  },
  {
   "cell_type": "code",
   "execution_count": 9,
   "metadata": {},
   "outputs": [
    {
     "name": "stdout",
     "output_type": "stream",
     "text": [
      "target: ['MedHouseVal']\n",
      "features: ['MedInc', 'HouseAge', 'AveRooms', 'AveBedrms', 'Population', 'AveOccup', 'Latitude', 'Longitude']\n",
      "description: .. _california_housing_dataset:\n",
      "\n",
      "California Housing dataset\n",
      "--------------------------\n",
      "\n",
      "**Data Set Characteristics:**\n",
      "\n",
      "    :Number of Instances: 20640\n",
      "\n",
      "    :Number of Attributes: 8 numeric, predictive attributes and the target\n",
      "\n",
      "    :Attribute Information:\n",
      "        - MedInc        median income in block\n",
      "        - HouseAge      median house age in block\n",
      "        - AveRooms      average number of rooms\n",
      "        - AveBedrms     average number of bedrooms\n",
      "        - Population    block population\n",
      "        - AveOccup      average house occupancy\n",
      "        - Latitude      house block latitude\n",
      "        - Longitude     house block longitude\n",
      "\n",
      "    :Missing Attribute Values: None\n",
      "\n",
      "This dataset was obtained from the StatLib repository.\n",
      "http://lib.stat.cmu.edu/datasets/\n",
      "\n",
      "The target variable is the median house value for California districts.\n",
      "\n",
      "This dataset was derived from the 1990 U.S. census, using one row per census\n",
      "block group. A block group is the smallest geographical unit for which the U.S.\n",
      "Census Bureau publishes sample data (a block group typically has a population\n",
      "of 600 to 3,000 people).\n",
      "\n",
      "It can be downloaded/loaded using the\n",
      ":func:`sklearn.datasets.fetch_california_housing` function.\n",
      "\n",
      ".. topic:: References\n",
      "\n",
      "    - Pace, R. Kelley and Ronald Barry, Sparse Spatial Autoregressions,\n",
      "      Statistics and Probability Letters, 33 (1997) 291-297\n",
      "\n"
     ]
    }
   ],
   "source": [
    "if test_case == 'california' :\n",
    "    print(\"target:\", list(dataset.target_names))\n",
    "print(\"features:\", list(dataset.feature_names))\n",
    "print(\"description:\", dataset.DESCR)\n"
   ]
  },
  {
   "cell_type": "markdown",
   "metadata": {},
   "source": [
    "Split it into train, validation and test sets."
   ]
  },
  {
   "cell_type": "code",
   "execution_count": 10,
   "metadata": {},
   "outputs": [],
   "source": [
    "#run time 0.7s\n",
    "\n",
    "train_ratio = 0.70\n",
    "validation_ratio = 0.15\n",
    "test_ratio = 0.15\n",
    "X = dataset.data\n",
    "X_train, X_test, y_train, y_test = train_test_split(X, y, test_size=1 - train_ratio, random_state=0)\n",
    "X_val, X_test, y_val, y_test = train_test_split(X_test, y_test, test_size=test_ratio/(test_ratio + validation_ratio), random_state=0)"
   ]
  },
  {
   "cell_type": "code",
   "execution_count": null,
   "metadata": {},
   "outputs": [],
   "source": [
    "X_train.shape\n"
   ]
  },
  {
   "cell_type": "markdown",
   "metadata": {},
   "source": [
    "What is the reason why you would like to have validation and test set and not just a test set?\n",
    "\n",
    "More guiding questions:\n",
    "How can you use the validation set?\n",
    "Can you use the validation set in some way to tune the hyperparameters of your model?\n",
    "Can you use the test set to tune the hyperparameters of your model?\n",
    "You can come back to these questions later if you're not sure yet."
   ]
  },
  {
   "cell_type": "markdown",
   "metadata": {},
   "source": [
    "## Decision Tree Regressor\n",
    "\n",
    "Run the cells below and inspect the output. Use the documentation where needed. Be prepared to answer questions posed by the TA."
   ]
  },
  {
   "cell_type": "code",
   "execution_count": 12,
   "metadata": {},
   "outputs": [],
   "source": [
    "#run time 0.7s\n",
    "\n",
    "regressor1 = DecisionTreeRegressor(random_state=0)"
   ]
  },
  {
   "cell_type": "markdown",
   "metadata": {},
   "source": [
    "Now let's examine the decision tree."
   ]
  },
  {
   "cell_type": "code",
   "execution_count": 13,
   "metadata": {},
   "outputs": [
    {
     "data": {
      "text/plain": [
       "array([0.57348072, 0.62233863, 0.6045285 , 0.5893524 , 0.5833089 ,\n",
       "       0.59548208, 0.57223303, 0.54706611, 0.53318603, 0.66383834])"
      ]
     },
     "execution_count": 13,
     "metadata": {},
     "output_type": "execute_result"
    }
   ],
   "source": [
    "#run time 1.8s\n",
    "\n",
    "from sklearn.model_selection import cross_val_score\n",
    "\n",
    "cross_val_score(regressor1, X_train, y_train, cv=10)"
   ]
  },
  {
   "cell_type": "code",
   "execution_count": 14,
   "metadata": {},
   "outputs": [
    {
     "data": {
      "text/plain": [
       "0.5930714269134938"
      ]
     },
     "execution_count": 14,
     "metadata": {},
     "output_type": "execute_result"
    }
   ],
   "source": [
    "#run time 0.3s\n",
    "\n",
    "regressor1.fit(X_train, y_train)\n",
    "regressor1.score(X_test, y_test)"
   ]
  },
  {
   "cell_type": "markdown",
   "metadata": {},
   "source": [
    "What do these numbers mean?\n",
    "Check out [cross_val_score](https://scikit-learn.org/stable/modules/generated/sklearn.model_selection.cross_val_score.html)\n",
    "and [DecisionTreeRegressor](https://scikit-learn.org/stable/modules/generated/sklearn.tree.DecisionTreeRegressor.html?highlight=decision+tree)\n",
    "to find the answers.\n",
    "\n",
    "How do you interpret the numbers?"
   ]
  },
  {
   "cell_type": "markdown",
   "metadata": {},
   "source": [
    "Let's have a look at two other parameters, max_depth and min_samples_leaf.\n",
    "How do you interpret the following numbers?"
   ]
  },
  {
   "cell_type": "markdown",
   "metadata": {},
   "source": [
    "## Decision Tree Parameters"
   ]
  },
  {
   "cell_type": "code",
   "execution_count": 21,
   "metadata": {},
   "outputs": [
    {
     "data": {
      "text/plain": [
       "array([0.3093173 , 0.31084997, 0.3238698 , 0.26062284, 0.34982138,\n",
       "       0.28834936, 0.31131296, 0.32220031, 0.26295319, 0.36589174])"
      ]
     },
     "execution_count": 21,
     "metadata": {},
     "output_type": "execute_result"
    }
   ],
   "source": [
    "#run time 0.2s\n",
    "\n",
    "regressor2 = DecisionTreeRegressor(max_depth=1, random_state=0)\n",
    "cross_val_score(regressor2, X_train, y_train, cv=10)"
   ]
  },
  {
   "cell_type": "code",
   "execution_count": 22,
   "metadata": {},
   "outputs": [
    {
     "data": {
      "text/plain": [
       "0.2958635051924463"
      ]
     },
     "execution_count": 22,
     "metadata": {},
     "output_type": "execute_result"
    }
   ],
   "source": [
    "#run time 0.1s\n",
    "\n",
    "regressor2.fit(X_train, y_train)\n",
    "regressor2.score(X_test, y_test)"
   ]
  },
  {
   "cell_type": "code",
   "execution_count": 23,
   "metadata": {},
   "outputs": [
    {
     "data": {
      "text/plain": [
       "array([0.69079973, 0.6957798 , 0.70731982, 0.66467126, 0.71251196,\n",
       "       0.69738931, 0.68688216, 0.68174247, 0.64622999, 0.72972825])"
      ]
     },
     "execution_count": 23,
     "metadata": {},
     "output_type": "execute_result"
    }
   ],
   "source": [
    "#run time 1.2s\n",
    "\n",
    "regressor3 = DecisionTreeRegressor(min_samples_leaf=60, random_state=0)\n",
    "cross_val_score(regressor3, X_train, y_train, cv=10)"
   ]
  },
  {
   "cell_type": "code",
   "execution_count": 24,
   "metadata": {},
   "outputs": [
    {
     "data": {
      "text/plain": [
       "0.6830318736673362"
      ]
     },
     "execution_count": 24,
     "metadata": {},
     "output_type": "execute_result"
    }
   ],
   "source": [
    "#run time 0.1s\n",
    "\n",
    "regressor3.fit(X_train, y_train)\n",
    "regressor3.score(X_test, y_test)"
   ]
  },
  {
   "cell_type": "markdown",
   "metadata": {},
   "source": [
    "## Decision Tree Visualization"
   ]
  },
  {
   "cell_type": "markdown",
   "metadata": {},
   "source": [
    "The next cells give examples how to visualize regressor2 and regressor3."
   ]
  },
  {
   "cell_type": "code",
   "execution_count": 29,
   "metadata": {
    "vscode": {
     "languageId": "markdown"
    }
   },
   "outputs": [
    {
     "data": {
      "image/png": "[encoded data removed]",
      "text/plain": [
       "<IPython.core.display.Image object>"
      ]
     },
     "execution_count": 29,
     "metadata": {},
     "output_type": "execute_result"
    }
   ],
   "source": [
    "#run time 0.2s\n",
    "\n",
    "from sklearn import tree\n",
    "import graphviz\n",
    "from IPython.display import Image\n",
    "\n",
    "dot_data = tree.export_graphviz(regressor2, feature_names=dataset.feature_names, out_file=None, filled=True, rounded=True, special_characters=True)\n",
    "graph = graphviz.Source(dot_data, format=\"png\") \n",
    "graph.render(\"decision_tree_regressor2\")\n",
    "Image(\"decision_tree_regressor2.png\")"
   ]
  },
  {
   "cell_type": "code",
   "execution_count": 32,
   "metadata": {
    "vscode": {
     "languageId": "markdown"
    }
   },
   "outputs": [
    {
     "data": {
      "image/png": "[encoded data removed]",
      "text/plain": [
       "<IPython.core.display.Image object>"
      ]
     },
     "execution_count": 32,
     "metadata": {},
     "output_type": "execute_result"
    }
   ],
   "source": [
    "#run time 4.8s\n",
    "\n",
    "dot_data = tree.export_graphviz(regressor2, feature_names=dataset.feature_names, out_file=None, filled=True, rounded=True, special_characters=True)\n",
    "graph = graphviz.Source(dot_data, format=\"png\") \n",
    "graph.render(\"wtf\")\n",
    "Image(\"wtf.png\")"
   ]
  },
  {
   "cell_type": "markdown",
   "metadata": {},
   "source": [
    "Another nice way to visualize the decision trees nicely is with dtreeviz. To make these plots it takes quite some time, so we recommend to use this visualization tool for trees with few nodes. "
   ]
  },
  {
   "cell_type": "code",
   "execution_count": null,
   "metadata": {},
   "outputs": [],
   "source": [
    "# run time 6.9s\n",
    "\n",
    "from dtreeviz.trees import dtreeviz\n",
    "\n",
    "viz = dtreeviz(regressor2, X, y,\n",
    "                target_name=\"target\",\n",
    "                feature_names=dataset.feature_names)\n",
    "#viz.view()\n",
    "# this opens the visualization in a new window. If you want to display the output inside the notebook use:\n",
    "viz\n",
    "# if you want to store the output in a file use:\n",
    "#viz.save(\"dtreeviz.svg\")\n",
    "# instead"
   ]
  },
  {
   "cell_type": "markdown",
   "metadata": {},
   "source": [
    "## Explainability\n",
    "\n",
    "If you want to visualize (explain) the decision path for one prediction, you can also use dtreeviz:"
   ]
  },
  {
   "cell_type": "code",
   "execution_count": null,
   "metadata": {},
   "outputs": [],
   "source": [
    "# run time 6.8s\n",
    "\n",
    "import numpy as np\n",
    "inx=np.random.randint(0, len(X_test))\n",
    "\n",
    "sample = X_test[inx,:] # random sample from training\n",
    "\n",
    "viz = dtreeviz(regressor2, X, y,\n",
    "                target_name=\"target\",\n",
    "                feature_names=dataset.feature_names,\n",
    "                X=sample)\n",
    "#viz.view()\n",
    "viz\n",
    "\n",
    "\n"
   ]
  },
  {
   "cell_type": "code",
   "execution_count": null,
   "metadata": {},
   "outputs": [],
   "source": [
    "y_test[inx]"
   ]
  },
  {
   "cell_type": "markdown",
   "metadata": {},
   "source": [
    "For bigger graphs you just show the decision path"
   ]
  },
  {
   "cell_type": "code",
   "execution_count": null,
   "metadata": {},
   "outputs": [],
   "source": [
    "#run time 10.4s\n",
    "\n",
    "viz = dtreeviz(regressor3, X, y,\n",
    "                target_name=\"target\",\n",
    "                feature_names=dataset.feature_names,\n",
    "                X=sample,\n",
    "                show_just_path=True)\n",
    "#viz.view()\n",
    "viz"
   ]
  },
  {
   "cell_type": "markdown",
   "metadata": {},
   "source": [
    "Another option to explain the prediction for big trees is this"
   ]
  },
  {
   "cell_type": "code",
   "execution_count": null,
   "metadata": {},
   "outputs": [],
   "source": [
    "# run time 0.1s\n",
    "\n",
    "from dtreeviz.trees import explain_prediction_path\n",
    "\n",
    "print(explain_prediction_path(regressor3, sample, feature_names=dataset.feature_names, explanation_type=\"plain_english\"))\n",
    "\n"
   ]
  },
  {
   "cell_type": "code",
   "execution_count": null,
   "metadata": {},
   "outputs": [],
   "source": []
  },
  {
   "cell_type": "markdown",
   "metadata": {},
   "source": [
    "## Pruning\n",
    "\n",
    "### Cost Complexity Pruning"
   ]
  },
  {
   "cell_type": "markdown",
   "metadata": {},
   "source": [
    "A smart way of pruning is to use cost complexity pruning. This method is based on the idea that a tree with a lot of nodes is more likely to overfit than a tree with few nodes. Therefore, we can prune the tree by removing nodes that are not important for the prediction. The cost complexity pruning method uses a parameter $\\alpha$ to determine how many nodes to remove. It basically is a tradeoff between having a tree with many nodes that has a small total MSE, vs. a tree with fewer nodes but greater total MSE. The following code shows how to use the cost complexity pruning method."
   ]
  },
  {
   "cell_type": "markdown",
   "metadata": {},
   "source": [
    "We find the alphas that change the Decision Tree to be \"cut down\" and we record the worsening of the MSE."
   ]
  },
  {
   "cell_type": "code",
   "execution_count": null,
   "metadata": {},
   "outputs": [],
   "source": [
    "# run time 0.8s\n",
    "\n",
    "path = regressor1.cost_complexity_pruning_path(X_train, y_train)\n",
    "ccp_alphas, impurities = path.ccp_alphas, path.impurities\n",
    "ccp_alphas[-1]"
   ]
  },
  {
   "cell_type": "markdown",
   "metadata": {},
   "source": [
    "We can then plot the MSE for each $\\alpha$.\n",
    "\n",
    "\n",
    "\n",
    "## Is impurity gini- impurity or MSE ? \n"
   ]
  },
  {
   "cell_type": "code",
   "execution_count": null,
   "metadata": {
    "vscode": {
     "languageId": "markdown"
    }
   },
   "outputs": [],
   "source": [
    "# run time 0.4s\n",
    "\n",
    "import matplotlib.pyplot as plt\n",
    "\n",
    "fig, ax = plt.subplots()\n",
    "ax.plot(ccp_alphas[:-1], impurities[:-1], marker=\"o\", drawstyle=\"steps-post\")\n",
    "ax.set_xlabel(\"effective alpha\")\n",
    "ax.set_ylabel(\"total impurity of leaves\")\n",
    "ax.set_title(\"Total Impurity vs effective alpha for training set\")"
   ]
  },
  {
   "cell_type": "markdown",
   "metadata": {},
   "source": [
    "You can now train a Decision Tree for each $\\alpha$."
   ]
  },
  {
   "cell_type": "code",
   "execution_count": null,
   "metadata": {},
   "outputs": [],
   "source": [
    "# run time 0.2s\n",
    "\n",
    "regressors = []\n",
    "for ccp_alpha in ccp_alphas:\n",
    "    regressor = DecisionTreeRegressor( random_state=0, ccp_alpha=ccp_alpha)\n",
    "    regressor.fit(X_train, y_train)\n",
    "    regressors.append(regressor)\n",
    "print(\n",
    "    \"Number of nodes in the last tree is: {} with ccp_alpha: {}\".format(\n",
    "        regressors[-1].tree_.node_count, ccp_alphas[-1]\n",
    "    ),\n",
    ")\n",
    "if regressors[-1].tree_.node_count == 1:\n",
    "    print(\"Removing last node.\")\n",
    "    regressors = regressors[:-1]\n",
    "    ccp_alphas = ccp_alphas[:-1]"
   ]
  },
  {
   "cell_type": "code",
   "execution_count": null,
   "metadata": {},
   "outputs": [],
   "source": [
    "# run time 0.5s\n",
    "\n",
    "node_counts = [regressor.tree_.node_count for regressor in regressors]\n",
    "depth = [regressor.tree_.max_depth for regressor in regressors]\n",
    "fig, ax = plt.subplots(2, 1)\n",
    "ax[0].plot(ccp_alphas, node_counts, marker=\"o\", drawstyle=\"steps-post\")\n",
    "ax[0].set_xlabel(\"alpha\")\n",
    "ax[0].set_ylabel(\"number of nodes\")\n",
    "ax[0].set_title(\"Number of nodes vs alpha\")\n",
    "ax[1].plot(ccp_alphas, depth, marker=\"o\", drawstyle=\"steps-post\")\n",
    "ax[1].set_xlabel(\"alpha\")\n",
    "ax[1].set_ylabel(\"depth of tree\")\n",
    "ax[1].set_title(\"Depth vs alpha\")\n",
    "fig.tight_layout()"
   ]
  },
  {
   "cell_type": "markdown",
   "metadata": {},
   "source": [
    "This is a way to get all the scores for each tree"
   ]
  },
  {
   "cell_type": "code",
   "execution_count": null,
   "metadata": {},
   "outputs": [],
   "source": [
    "# run time 0.6s\n",
    "\n",
    "train_scores = [regressor.score(X_train, y_train) for regressor in regressors]\n",
    "val_scores = [regressor.score(X_val, y_val) for regressor in regressors]\n",
    "\n",
    "fig, ax = plt.subplots()\n",
    "ax.set_xlabel(\"alpha\")\n",
    "ax.set_ylabel(\"accuracy\")\n",
    "ax.set_title(\"Accuracy vs alpha for training and validation sets\")\n",
    "ax.plot(ccp_alphas, train_scores, marker=\"o\", label=\"train\", drawstyle=\"steps-post\")\n",
    "ax.plot(ccp_alphas, val_scores, marker=\"o\", label=\"val\", drawstyle=\"steps-post\")\n",
    "ax.legend()\n",
    "plt.show()"
   ]
  },
  {
   "cell_type": "markdown",
   "metadata": {},
   "source": [
    "The best tree is the one with the highest score."
   ]
  },
  {
   "cell_type": "code",
   "execution_count": null,
   "metadata": {},
   "outputs": [],
   "source": [
    "# run time 0.8s\n",
    "\n",
    "idx_max = np.argmax(val_scores)\n",
    "regressor_best = regressors[idx_max]\n",
    "print(\"Best alpha: {}\".format(ccp_alphas[idx_max]))"
   ]
  },
  {
   "cell_type": "code",
   "execution_count": null,
   "metadata": {},
   "outputs": [],
   "source": [
    "# run time 0.7s\n",
    "regressor_best.score(X_test, y_test)"
   ]
  },
  {
   "cell_type": "code",
   "execution_count": null,
   "metadata": {},
   "outputs": [],
   "source": [
    "# run time 0.8s\n",
    "\n",
    "dot_data = tree.export_graphviz(regressor_best, feature_names=dataset.feature_names, out_file=None, filled=True, rounded=True, special_characters=True)\n",
    "graph = graphviz.Source(dot_data, format=\"png\") \n",
    "graph.render(\"decision_tree_regressor_best\")\n",
    "Image(\"decision_tree_regressor_best.png\")"
   ]
  },
  {
   "cell_type": "markdown",
   "metadata": {},
   "source": [
    "## Ensemble methods: \n",
    "\n",
    "Experiment with at least two methods. Inspect the documentation of the different estimators. Note that you can use regressors as estimators within an ensemble that are themselves based on an ensemble. Below is an example for a (tiny) voting ensemble. Visualise your results to be able to discuss them!"
   ]
  },
  {
   "cell_type": "code",
   "execution_count": null,
   "metadata": {},
   "outputs": [],
   "source": [
    "# run time 1.2s\n",
    "\n",
    "from sklearn.ensemble import VotingRegressor\n",
    "from sklearn.linear_model import LinearRegression\n",
    "from sklearn.linear_model import HuberRegressor\n",
    "\n",
    "voting=VotingRegressor(estimators=[('lr', LinearRegression()) ,('dt', DecisionTreeRegressor()) ,   ('hr', HuberRegressor())])\n",
    "voting.fit(X_train, y_train)\n",
    "voting.score(X_test, y_test)\n",
    "\n",
    "\n"
   ]
  },
  {
   "cell_type": "markdown",
   "metadata": {},
   "source": [
    "## Boosting!\n",
    "\n",
    "Experiment with an AdaBoostRegressor and interpret the results. \n",
    "\n",
    "## Öka mängden träd hjälper lite. Till en viss gräns"
   ]
  },
  {
   "cell_type": "code",
   "execution_count": null,
   "metadata": {},
   "outputs": [],
   "source": [
    "# run time 0.2s\n",
    "\n",
    "#https://scikit-learn.org/stable/auto_examples/ensemble/plot_adaboost_regression.html#sphx-glr-auto-examples-ensemble-plot-adaboost-regression-py\n",
    "from sklearn.ensemble import AdaBoostRegressor\n",
    "\n",
    "number_of_trees =35\n",
    "\n",
    "boosting = AdaBoostRegressor(base_estimator=DecisionTreeRegressor(), n_estimators=number_of_trees, random_state=0)\n",
    "boosting.fit(X_train, y_train)\n",
    "boosting.score(X_test, y_test)\n"
   ]
  },
  {
   "cell_type": "markdown",
   "metadata": {},
   "source": []
  },
  {
   "cell_type": "code",
   "execution_count": null,
   "metadata": {},
   "outputs": [],
   "source": [
    "# run time 1m 13s to 3m\n",
    "\n",
    "fig, ax = plt.subplots(5,2)\n",
    "for i, axi in enumerate(ax.flat):\n",
    " \n",
    "    axi.set_title(\"Tree {}\".format(i))\n",
    "    tree.plot_tree(boosting.estimators_[i], ax=axi, feature_names=dataset.feature_names, filled=True, rounded=True)\n",
    "\n",
    "fig.tight_layout()"
   ]
  },
  {
   "cell_type": "code",
   "execution_count": null,
   "metadata": {},
   "outputs": [],
   "source": []
  },
  {
   "cell_type": "markdown",
   "metadata": {},
   "source": [
    "## Random Forests\n",
    "\n",
    "Experiment with different parameters for the RF-Regressor. Test at least two different parameter sets.\n",
    "\n",
    "number_of_trees = 10   --> 0.07\n",
    "\n",
    "\n",
    "number_of_trees = 10 + max_depth=10 -->  -0.02\n",
    "\n",
    "\n",
    "number_of_trees = 50 + max_depth=10 -->  0.14\n",
    "\n",
    "number_of_trees = 50  -->  0.15\n"
   ]
  },
  {
   "cell_type": "code",
   "execution_count": null,
   "metadata": {},
   "outputs": [],
   "source": [
    "from sklearn.ensemble import RandomForestRegressor\n",
    "\n",
    "number_of_trees = 50\n",
    "forest = RandomForestRegressor(n_estimators=number_of_trees,random_state=0)\n",
    "forest.fit(X_train, y_train)\n",
    "forest.score(X_test, y_test)"
   ]
  },
  {
   "cell_type": "code",
   "execution_count": null,
   "metadata": {},
   "outputs": [],
   "source": [
    "for treeid in range(number_of_trees):\n",
    "    dot_data = tree.export_graphviz(forest.estimators_[treeid], feature_names=dataset.feature_names, out_file=None, filled=True, rounded=True, special_characters=True)\n",
    "    graph = graphviz.Source(dot_data, format=\"png\") \n",
    "    graph.render(\"forest_treeid\"+str(treeid))"
   ]
  },
  {
   "cell_type": "code",
   "execution_count": null,
   "metadata": {},
   "outputs": [],
   "source": [
    "# run time 1m 23s to 3m\n",
    "\n",
    "fig, ax = plt.subplots(5,2)\n",
    "for i, axi in enumerate(ax.flat):\n",
    "    axi.set_title(\"Tree {}\".format(i))\n",
    "    tree.plot_tree(forest.estimators_[i], ax=axi, feature_names=dataset.feature_names, filled=True, rounded=True)\n",
    "fig.tight_layout()"
   ]
  },
  {
   "cell_type": "markdown",
   "metadata": {},
   "source": [
    "# Part 2\n",
    "\n",
    "Implement your own version of a regression tree by using the provided code skeleton which you can find in ID3_reg.py. If you prefer to implement your own tree entirely, this is fine, but you should be confident in handling the implementation of the recursion properly. Please note: the actual task description (which evaluations to provide and discuss) is given in Canvas, as is a check list."
   ]
  },
  {
   "cell_type": "code",
   "execution_count": null,
   "metadata": {},
   "outputs": [],
   "source": [
    "!pip3 install ordered_set"
   ]
  },
  {
   "cell_type": "markdown",
   "metadata": {},
   "source": [
    "## Discretizing the data\n",
    "\n",
    "To make experiments with categorical data, you need to discretize the data (this goes both for the 'california' and the 'diabetes' cases). In order to have the entire data set \"as is\" for the binning, you can prepare a binning rule on the original data (X, if you continue to work with the data from part 1), that you then apply to your train and test data sets. To make sure that you do not miss any possible attribute values, use the entire set (X) again when providing the categorical values (here bin indices) to the ID3 tree."
   ]
  },
  {
   "cell_type": "code",
   "execution_count": null,
   "metadata": {},
   "outputs": [],
   "source": [
    "from sklearn.preprocessing import KBinsDiscretizer\n",
    "import numpy as np\n",
    "\n",
    "# you might want to try different numbers of bins\n",
    "# inspect the data set description in part 1 to find suitable numbers \n",
    "if test_case == 'california':\n",
    "    bins = list(np.array([2,2,2,2,2,2,2,2]*5))\n",
    "elif test_case == 'diabetes':\n",
    "    bins = [2,2,2,2,2,2,2,2,2,2]\n",
    "\n",
    "# here you can test to use different strategies, see the KBinsDiscretizer documentation\n",
    "binner = KBinsDiscretizer(n_bins=bins, encode='ordinal', strategy='kmeans')\n",
    "binning_rule = binner.fit(X)\n"
   ]
  },
  {
   "cell_type": "code",
   "execution_count": null,
   "metadata": {},
   "outputs": [],
   "source": []
  },
  {
   "cell_type": "markdown",
   "metadata": {},
   "source": [
    "## Creating and evaluating an ID3-based Regression Tree\n",
    "\n",
    "The following cells provide some framework for creating / testing your own, ID3-based, regressor. To see that your tree is constructed correctly, some prints are provided (essentially from the lecture) within the handout directory, that are created with the \"ConceptData\" from the lecture. "
   ]
  },
  {
   "cell_type": "code",
   "execution_count": 7,
   "metadata": {
    "scrolled": false
   },
   "outputs": [
    {
     "name": "stdout",
     "output_type": "stream",
     "text": [
      "{'MedInc': {0, 1, 2, 3, 4, 5, 6, 7, 8, 9, 10, 11}, 'HouseAge': {0, 1, 2, 3, 4, 5, 6, 7, 8, 9, 10, 11}, 'AveRooms': {0, 1, 2, 3, 4, 5, 6, 7, 8, 9, 10, 11}, 'AveBedrms': {0, 1, 2, 3, 4, 5, 6, 7, 8, 9, 10, 11}, 'Population': {0, 1, 2, 3, 4, 5, 6, 7, 8, 9, 10, 11}, 'AveOccup': {0, 1, 2, 3, 4, 5, 6, 7, 8, 9, 10, 11}, 'Latitude': {0, 1, 2, 3, 4, 5, 6, 7, 8, 9, 10, 11}, 'Longitude': {0, 1, 2, 3, 4, 5, 6, 7, 8, 9, 10, 11}}\n"
     ]
    }
   ],
   "source": [
    "########################################################\n",
    "\n",
    "from sklearn.preprocessing import KBinsDiscretizer\n",
    "import numpy as np\n",
    "\n",
    "# you might want to try different numbers of bins\n",
    "# inspect the data set description in part 1 to find suitable numbers \n",
    "if test_case == 'california':\n",
    "    bins = list(np.array([2,2,2,2,2,2,2,2])*12/2)\n",
    "elif test_case == 'diabetes':\n",
    "    bins = [2,2,2,2,2,2,2,2,2,2]\n",
    "\n",
    "# here you can test to use different strategies, see the KBinsDiscretizer documentation\n",
    "binner = KBinsDiscretizer(n_bins=bins, encode='ordinal', strategy='kmeans')\n",
    "binning_rule = binner.fit(X)\n",
    "\n",
    "\n",
    "\n",
    "################################################\n",
    "#######################################\n",
    "\n",
    "\n",
    "#import ID3_reg\n",
    "import ConceptDataRegr as cd\n",
    "import graphviz\n",
    "# For testing that you get the correct output from your own implementation, use the \"ConceptData\" data set:\n",
    "#test_case = 'concept'\n",
    "#test_case = 'diabetes'\n",
    "#test_case = 'california'\n",
    "\n",
    "if test_case == 'concept' :\n",
    "    attributes, binned_X_train, y_train, binned_X_test, y_test = cd.ConceptDataRegr().get_data()\n",
    "    binned_X_val = []\n",
    "    y_val = []\n",
    "     \n",
    "else :\n",
    "    # if running on \"real\" data, you now need to use the binning_rule you computed above \n",
    "    binned_X = binning_rule.transform(X).astype(int)\n",
    "    binned_X_train = binning_rule.transform(X_train).astype(int)\n",
    "    binned_X_val = binning_rule.transform(X_val).astype(int)\n",
    "    binned_X_test = binning_rule.transform(X_test).astype(int)\n",
    "\n",
    "    attributes = {}\n",
    "    i = 0\n",
    "    for attr in dataset.feature_names :\n",
    "        attributes[attr] = set(binned_X[:,i])\n",
    "        i+=1\n",
    "\n",
    "print(attributes)\n",
    "#minSamplesLeaves, minSamplesSplits, maxDepths, stopMSEs = 1, 1, 180, 0\n",
    "minSamplesLeaves, minSamplesSplits, maxDepths, stopMSEs = 1, 1, 100, 0\n",
    "# if test_case == 'california':\n",
    "#     c= round(14447/309/2)\n",
    "#     minSamplesLeaves *= c\n",
    "#     minSamplesSplits *= c\n",
    "# #    maxDepths *= c\n",
    "#     stopMSEs *= c\n",
    "\n",
    "# Now, set up the tree (inspect the ID3_reg class!)    \n",
    "id3 = ID3RegressionTreePredictor(minSamplesLeaf= minSamplesLeaves, minSamplesSplit =minSamplesSplits, maxDepth =maxDepths\n",
    "                                 , stopMSE = stopMSEs)\n",
    "\n",
    "# visualising in the \"bubble\" format from the lecture\n",
    "myTree = id3.fit(binned_X_train, y_train, attributes)\n",
    "# dot_data = id3.makeDotData().source\n",
    "# graph = graphviz.Source(dot_data, format=\"pdf\")\n",
    "# graph.render(test_case+\"_bubbles\")\n",
    "# graph.view()"
   ]
  },
  {
   "cell_type": "code",
   "execution_count": null,
   "metadata": {},
   "outputs": [],
   "source": []
  },
  {
   "cell_type": "code",
   "execution_count": 8,
   "metadata": {},
   "outputs": [
    {
     "data": {
      "text/plain": [
       "1.0"
      ]
     },
     "execution_count": 8,
     "metadata": {},
     "output_type": "execute_result"
    }
   ],
   "source": [
    "sk_regressor = DecisionTreeRegressor(min_samples_leaf=minSamplesLeaves  , max_depth=maxDepths ,  random_state=0)\n",
    "#cross_val_score(regressor3, X_train, y_train, cv=10)\n",
    "\n",
    "sk_regressor.fit(X_train, y_train)\n",
    "\n",
    "sk_regressor.score(X_train, y_train)\n"
   ]
  },
  {
   "cell_type": "code",
   "execution_count": 9,
   "metadata": {},
   "outputs": [
    {
     "data": {
      "text/plain": [
       "0.5930714269134938"
      ]
     },
     "execution_count": 9,
     "metadata": {},
     "output_type": "execute_result"
    }
   ],
   "source": [
    "sk_regressor.score(X_test, y_test)"
   ]
  },
  {
   "cell_type": "code",
   "execution_count": null,
   "metadata": {},
   "outputs": [],
   "source": [
    "#ID3"
   ]
  },
  {
   "cell_type": "code",
   "execution_count": null,
   "metadata": {},
   "outputs": [],
   "source": [
    "predicted = id3.predict(binned_X_val)\n",
    "#print(predicted)\n",
    "id3.score(binned_X_test, y_test)"
   ]
  },
  {
   "cell_type": "code",
   "execution_count": null,
   "metadata": {},
   "outputs": [],
   "source": [
    "id3.score(binned_X_train, y_train)"
   ]
  },
  {
   "cell_type": "code",
   "execution_count": null,
   "metadata": {},
   "outputs": [],
   "source": [
    "X_train.shape"
   ]
  },
  {
   "cell_type": "code",
   "execution_count": null,
   "metadata": {
    "scrolled": true
   },
   "outputs": [],
   "source": [
    "#binned_X_val"
   ]
  },
  {
   "cell_type": "code",
   "execution_count": null,
   "metadata": {},
   "outputs": [],
   "source": [
    "y_val"
   ]
  },
  {
   "cell_type": "code",
   "execution_count": null,
   "metadata": {},
   "outputs": [],
   "source": [
    "y_test"
   ]
  },
  {
   "cell_type": "code",
   "execution_count": null,
   "metadata": {
    "scrolled": false
   },
   "outputs": [],
   "source": [
    "# printing to squares if you want a tree that looks more like those from part 1 ;-)\n",
    "dot_data_pretty='digraph Tree {\\n'+\\\n",
    "    'node [shape=box'+\\\n",
    "    ', style=\"rounded\", color=\"black\"'+\\\n",
    "    ', fontname=\"helvetica\"] ;\\n'+\\\n",
    "    'graph [ranksep=equally, splines=polyline] ;\\n'+\\\n",
    "    'edge [fontname=\"helvetica\"] ;\\n'+\\\n",
    "    dot_data[9:]\n",
    "\n",
    "graph = graphviz.Source(dot_data_pretty, format=\"png\")\n",
    "graph.render(test_case+\"_pretty\")\n",
    "graph.view()\n",
    "graph"
   ]
  },
  {
   "cell_type": "code",
   "execution_count": null,
   "metadata": {},
   "outputs": [],
   "source": [
    "sk_regressor = DecisionTreeRegressor(min_samples_leaf=60  ,   random_state=0)\n",
    "#cross_val_score(regressor3, X_train, y_train, cv=10)\n",
    "\n",
    "sk_regressor.fit(X_train, y_train)\n",
    "\n",
    "sk_regressor.score(X_train, y_train)\n",
    "\n"
   ]
  },
  {
   "cell_type": "code",
   "execution_count": null,
   "metadata": {},
   "outputs": [],
   "source": [
    "sk_regressor.score(X_test, y_test)"
   ]
  },
  {
   "cell_type": "code",
   "execution_count": null,
   "metadata": {},
   "outputs": [],
   "source": [
    "from sklearn import tree\n",
    "import graphviz\n",
    "from IPython.display import Image\n",
    "\n",
    "dot_data = tree.export_graphviz(sk_regressor, feature_names=dataset.feature_names, out_file=None, filled=True, rounded=True, special_characters=True)\n",
    "graph = graphviz.Source(dot_data, format=\"png\") \n",
    "graph.render(\"sk_regressor\")\n",
    "Image(\"sk_regressor.png\")"
   ]
  },
  {
   "cell_type": "code",
   "execution_count": null,
   "metadata": {},
   "outputs": [],
   "source": [
    "round(14447/309) * 4"
   ]
  },
  {
   "cell_type": "markdown",
   "metadata": {},
   "source": [
    "\n",
    "| Min sample Leaf   |Max depth  | Discretization | Score train| Score test|Sk train |Sk test|\n",
    "|:------------------|:--------- |:---------------|:-----------|----------:|--------:|:-------|\n",
    "\n",
    "\n",
    "\n"
   ]
  },
  {
   "cell_type": "code",
   "execution_count": null,
   "metadata": {},
   "outputs": [],
   "source": []
  }
 ],
 "metadata": {
  "kernelspec": {
   "display_name": "Python 3 (ipykernel)",
   "language": "python",
   "name": "python3"
  },
  "language_info": {
   "codemirror_mode": {
    "name": "ipython",
    "version": 3
   },
   "file_extension": ".py",
   "mimetype": "text/x-python",
   "name": "python",
   "nbconvert_exporter": "python",
   "pygments_lexer": "ipython3",
   "version": "3.9.12"
  },
  "vscode": {
   "interpreter": {
    "hash": "63f08e0be87bb1ec22e3a665002567369c2bb78585d8d1135c35fb08381ea5a6"
   }
  }
 },
 "nbformat": 4,
 "nbformat_minor": 2
}
